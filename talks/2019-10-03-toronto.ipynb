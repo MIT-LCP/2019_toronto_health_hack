{
 "cells": [
  {
   "cell_type": "markdown",
   "metadata": {
    "slideshow": {
     "slide_type": "slide"
    }
   },
   "source": [
    "# Getting the data\n",
    "\n",
    "## Tom Pollard, Alistair Johnson\n",
    "\n",
    "### MIT Laboratory for Computational Physiology (MIT-LCP)\n",
    "\n",
    "<img style=\"float: right; height: 100px\" src=\"./images/MIT-LCP-logo.png\">\n",
    "\n",
    "#### Toronto Health Data Hackathon: Fri 4 October 2019"
   ]
  },
  {
   "cell_type": "markdown",
   "metadata": {
    "slideshow": {
     "slide_type": "subslide"
    }
   },
   "source": [
    "# Real data\n",
    "\n",
    "![MIMIC on Reddit](./images/reddit.png)\n",
    "\n",
    "- The data was not generated for us to do research.\n",
    "- The data does not come in nice, tidy spreadsheets."
   ]
  },
  {
   "cell_type": "markdown",
   "metadata": {
    "slideshow": {
     "slide_type": "subslide"
    }
   },
   "source": [
    "# Real patients\n",
    "\n",
    "<img style=\"height: 600px\" src=\"./images/icu_patient.png\">"
   ]
  },
  {
   "cell_type": "markdown",
   "metadata": {
    "slideshow": {
     "slide_type": "subslide"
    }
   },
   "source": [
    "# Why do we share?\n",
    "\n",
    "- More people seeing the data = more knowledge.\n",
    "- Ultimately to **accelerate progress in health research**."
   ]
  },
  {
   "cell_type": "markdown",
   "metadata": {
    "slideshow": {
     "slide_type": "slide"
    }
   },
   "source": [
    "# Getting access\n",
    "\n",
    "![Google Cloud](./images/google_cloud.png)\n",
    "\n",
    "- **BigQuery**: Cloud database system.\n",
    "- **Colab**: Python notebook."
   ]
  },
  {
   "cell_type": "markdown",
   "metadata": {
    "slideshow": {
     "slide_type": "subslide"
    }
   },
   "source": [
    "# Step 1: Sign the data use agreement \n",
    "\n",
    "## https://tinyurl.com/tdothealthhack"
   ]
  },
  {
   "cell_type": "markdown",
   "metadata": {
    "slideshow": {
     "slide_type": "subslide"
    }
   },
   "source": [
    "# Step 2: Pin the projects on the BigQuery\n",
    "\n",
    "## https://bigquery.cloud.google.com/\n",
    "\n",
    "- Billing project: `tdothealthhack-team`  \n",
    "\n",
    "\n",
    "- Data projects: `tdothealthhack-data` and `physionet-data`"
   ]
  },
  {
   "cell_type": "markdown",
   "metadata": {
    "slideshow": {
     "slide_type": "subslide"
    }
   },
   "source": [
    "# Step 3: Explore the notebooks\n",
    "\n",
    "## https://github.com/MIT-LCP/2019_toronto_health_hack"
   ]
  },
  {
   "cell_type": "markdown",
   "metadata": {
    "slideshow": {
     "slide_type": "subslide"
    }
   },
   "source": [
    "# Share your code!\n",
    "\n",
    "## \"We excluded patients on comfort measures\" \n",
    "\n",
    "<img width=\"50%\" src=\"./images/cmo.png\">\n",
    "\n",
    "- *Figure by Alistair Johnson*"
   ]
  },
  {
   "cell_type": "markdown",
   "metadata": {
    "slideshow": {
     "slide_type": "slide"
    }
   },
   "source": [
    "# After the event"
   ]
  },
  {
   "cell_type": "markdown",
   "metadata": {
    "slideshow": {
     "slide_type": "subslide"
    }
   },
   "source": [
    "# PhysioNet (www.physionet.org)\n",
    "\n",
    "<img width=\"80%\" src=\"./images/physionet_new.png\">"
   ]
  },
  {
   "cell_type": "markdown",
   "metadata": {
    "slideshow": {
     "slide_type": "subslide"
    }
   },
   "source": [
    "# You can share too\n",
    "\n",
    "<img src=\"./images/physionet_share.png\">"
   ]
  },
  {
   "cell_type": "markdown",
   "metadata": {
    "slideshow": {
     "slide_type": "slide"
    }
   },
   "source": [
    "# Have fun and learn something\n",
    "\n",
    "<img src=\"./images/datathon.jpg\">"
   ]
  }
 ],
 "metadata": {
  "celltoolbar": "Slideshow",
  "kernelspec": {
   "display_name": "Python 3",
   "language": "python",
   "name": "python3"
  },
  "language_info": {
   "codemirror_mode": {
    "name": "ipython",
    "version": 3
   },
   "file_extension": ".py",
   "mimetype": "text/x-python",
   "name": "python",
   "nbconvert_exporter": "python",
   "pygments_lexer": "ipython3",
   "version": "3.7.3"
  }
 },
 "nbformat": 4,
 "nbformat_minor": 2
}
