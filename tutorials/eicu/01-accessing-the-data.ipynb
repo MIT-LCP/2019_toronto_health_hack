{
  "nbformat": 4,
  "nbformat_minor": 0,
  "metadata": {
    "colab": {
      "name": "01-accessing-the-data.ipynb",
      "version": "0.3.2",
      "provenance": [],
      "collapsed_sections": []
    },
    "kernelspec": {
      "display_name": "Python 3",
      "language": "python",
      "name": "python3"
    },
    "language_info": {
      "codemirror_mode": {
        "name": "ipython",
        "version": 3
      },
      "file_extension": ".py",
      "mimetype": "text/x-python",
      "name": "python",
      "nbconvert_exporter": "python",
      "pygments_lexer": "ipython3",
      "version": "3.7.3"
    }
  },
  "cells": [
    {
      "cell_type": "markdown",
      "metadata": {
        "colab_type": "text",
        "id": "wIzJcXV1t-mr"
      },
      "source": [
        "# eICU Collaborative Research Database\n",
        "\n",
        "# Notebook 1: Accessing the data\n",
        "\n",
        "The aim of this notebook is to get set up with access to a demo version of the [eICU Collaborative Research Database](http://eicu-crd.mit.edu/). The demo is a subset of the full database, limited to 100 patients."
      ]
    },
    {
      "cell_type": "markdown",
      "metadata": {
        "colab_type": "text",
        "id": "MSr3SoebuvwM"
      },
      "source": [
        "## Prerequisites\n",
        "\n",
        "- If you do not have a Gmail account, please create one at http://www.gmail.com. \n",
        "- If you have not yet signed the data use agreement (DUA) sent by the organizers, please do so now to get access to the dataset."
      ]
    },
    {
      "cell_type": "markdown",
      "metadata": {
        "colab_type": "text",
        "id": "wgyxL8owvPvA"
      },
      "source": [
        "## Setup\n",
        "\n",
        "To run the queries in this notebook, you will need to create a copy by clicking *File\" > \"Save a copy in Drive...\"* from the menu. Before running a cell in the notebook, check for the green \"CONNECTED\" check mark in top right corner.\n",
        "\n",
        "Next we'll start playing with the data. First, you need to run some initialization code. You can run the following cell by clicking on the triangle button when you hover over the [ ] space on the top-left corner of the code cell below."
      ]
    },
    {
      "cell_type": "code",
      "metadata": {
        "colab_type": "code",
        "id": "tc8ew3HzwwCi",
        "colab": {}
      },
      "source": [
        "# Import libraries\n",
        "import numpy as np\n",
        "import os\n",
        "import pandas as pd\n",
        "import matplotlib.pyplot as plt\n",
        "import matplotlib.patches as patches\n",
        "import matplotlib.path as path\n",
        "\n",
        "# Make pandas dataframes prettier\n",
        "from IPython.display import display, HTML\n",
        "\n",
        "# Access data using Google BigQuery.\n",
        "from google.colab import auth\n",
        "from google.cloud import bigquery"
      ],
      "execution_count": 0,
      "outputs": []
    },
    {
      "cell_type": "markdown",
      "metadata": {
        "colab_type": "text",
        "id": "BJqeFUJlxmCj"
      },
      "source": [
        "Before running any queries, you need to first authenticate yourself by running the following cell. If you are running it for the first time, it will ask you to follow a link to log in using your Gmail account, and accept the data access requests to your profile. Once this is done, it will generate a string of verification code, which you should paste back to the cell below and press enter.\n"
      ]
    },
    {
      "cell_type": "code",
      "metadata": {
        "colab_type": "code",
        "id": "IK7lJh-hxSRQ",
        "colab": {}
      },
      "source": [
        "auth.authenticate_user()"
      ],
      "execution_count": 0,
      "outputs": []
    },
    {
      "cell_type": "markdown",
      "metadata": {
        "colab_type": "text",
        "id": "jjRRnhuTx6yx"
      },
      "source": [
        "## Querying the dataset\n",
        "\n",
        "Now we are ready to load the data from the cloud server. The data-hosting project `physionet-data` allows you read-only access to the eICU Collaborative Research Database demo (as well as the complete eICU database, the MIMIC-III database and the MIMIC-CXR database). Let's see which datasets are available in this project. "
      ]
    },
    {
      "cell_type": "code",
      "metadata": {
        "colab_type": "code",
        "id": "wLau3cWFxuYC",
        "colab": {}
      },
      "source": [
        "project_id='tdothealthhack-team'\n",
        "os.environ[\"GOOGLE_CLOUD_PROJECT\"]=project_id"
      ],
      "execution_count": 0,
      "outputs": []
    },
    {
      "cell_type": "code",
      "metadata": {
        "colab_type": "code",
        "id": "SE5Dc2tpztSq",
        "colab": {}
      },
      "source": [
        "# create a connection to the database\n",
        "client = bigquery.Client(project='physionet-data')\n",
        "\n",
        "# load the dataset list\n",
        "datasets = client.list_datasets()\n",
        "\n",
        "# iterate the datasets list\n",
        "for dataset in datasets:\n",
        "    did = dataset.dataset_id\n",
        "    # print the dataset name\n",
        "    print('Dataset \"{}\" has the following tables: '.format(did))\n",
        "    # iterate the tables on the dataset\n",
        "    for table in client.list_tables(client.dataset(did)):\n",
        "        # print the table name\n",
        "        print('- {}'.format(table.table_id))"
      ],
      "execution_count": 0,
      "outputs": []
    }
  ]
}