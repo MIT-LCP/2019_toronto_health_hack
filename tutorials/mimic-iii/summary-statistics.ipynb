{
 "cells": [
  {
   "cell_type": "markdown",
   "metadata": {
    "colab_type": "text",
    "id": "1G_TVh1ybQkl"
   },
   "source": [
    "# MIMIC-IV: Summary statistics\n",
    "\n",
    "This notebook shows how summary statistics can be computed for a patient cohort using the `tableone` package. Usage instructions for tableone are at: https://pypi.org/project/tableone/"
   ]
  },
  {
   "cell_type": "markdown",
   "metadata": {
    "colab_type": "text",
    "id": "L9XF77F2bnee"
   },
   "source": [
    "## Load libraries and connect to the database"
   ]
  },
  {
   "cell_type": "code",
   "execution_count": 0,
   "metadata": {
    "colab": {},
    "colab_type": "code",
    "id": "wXiSE558bn_w"
   },
   "outputs": [],
   "source": [
    "# Import libraries\n",
    "import numpy as np\n",
    "import os\n",
    "import pandas as pd\n",
    "import matplotlib.pyplot as plt\n",
    "import matplotlib.patches as patches\n",
    "import matplotlib.path as path\n",
    "\n",
    "# Make pandas dataframes prettier\n",
    "from IPython.display import display, HTML\n",
    "\n",
    "# Access data using Google BigQuery.\n",
    "from google.colab import auth\n",
    "from google.cloud import bigquery"
   ]
  },
  {
   "cell_type": "code",
   "execution_count": 0,
   "metadata": {
    "colab": {},
    "colab_type": "code",
    "id": "pLGnLAy-bsKb"
   },
   "outputs": [],
   "source": [
    "# authenticate\n",
    "auth.authenticate_user()"
   ]
  },
  {
   "cell_type": "code",
   "execution_count": 0,
   "metadata": {
    "colab": {},
    "colab_type": "code",
    "id": "PUjFDFdobszs"
   },
   "outputs": [],
   "source": [
    "# Set up environment variables\n",
    "project_id='tdothealthhack-team'\n",
    "os.environ[\"GOOGLE_CLOUD_PROJECT\"]=project_id"
   ]
  },
  {
   "cell_type": "code",
   "execution_count": 0,
   "metadata": {
    "colab": {},
    "colab_type": "code",
    "id": "bkJUF8HBbvWe"
   },
   "outputs": [],
   "source": [
    "# Helper function to read data from BigQuery into a DataFrame.\n",
    "def run_query(query):\n",
    "    return pd.io.gbq.read_gbq(query, project_id=project_id, dialect=\"standard\")"
   ]
  },
  {
   "cell_type": "markdown",
   "metadata": {
    "colab_type": "text",
    "id": "iWDUCA5Nb5BK"
   },
   "source": [
    "## Install and load the `tableone` package\n",
    "\n",
    "The tableone package can be used to create summary statistics for a patient cohort. Unlike the previous packages it isn't installed by default in Colab, so we'll need install it first."
   ]
  },
  {
   "cell_type": "code",
   "execution_count": 0,
   "metadata": {
    "colab": {},
    "colab_type": "code",
    "id": "F9doCgtscOJd"
   },
   "outputs": [],
   "source": [
    "!pip install tableone"
   ]
  },
  {
   "cell_type": "code",
   "execution_count": 0,
   "metadata": {
    "colab": {},
    "colab_type": "code",
    "id": "SDI_Q7W0b4Le"
   },
   "outputs": [],
   "source": [
    "# Import the tableone class\n",
    "from tableone import TableOne"
   ]
  },
  {
   "cell_type": "markdown",
   "metadata": {
    "colab_type": "text",
    "id": "14TU4lcrdD7I"
   },
   "source": [
    "## Load the patient cohort\n",
    "\n",
    "Let's load some basic demographic details from the `patients` and `admissions` tables"
   ]
  },
  {
   "cell_type": "code",
   "execution_count": 0,
   "metadata": {
    "colab": {},
    "colab_type": "code",
    "id": "HF5WF5EObwfw"
   },
   "outputs": [],
   "source": [
    "# Link the patient and apachepatientresult tables on patientunitstayid\n",
    "# using an inner join.\n",
    "query = \"\"\"\n",
    "SELECT p.gender, p.anchor_age, a.admission_type, \n",
    "    a.insurance, a.ethnicity, hospital_expire_flag\n",
    "FROM `physionet-data.mimic_core.patients` p\n",
    "INNER JOIN `physionet-data.mimic_core.admissions` a\n",
    "ON p.subject_id = a.subject_id\n",
    "\"\"\"\n",
    "\n",
    "cohort = run_query(query)"
   ]
  },
  {
   "cell_type": "code",
   "execution_count": 0,
   "metadata": {
    "colab": {},
    "colab_type": "code",
    "id": "k3hURHFihHNA"
   },
   "outputs": [],
   "source": [
    "cohort.head()"
   ]
  },
  {
   "cell_type": "markdown",
   "metadata": {
    "colab_type": "text",
    "id": "qnG8dVb2iHSn"
   },
   "source": [
    "## Calculate summary statistics"
   ]
  },
  {
   "cell_type": "code",
   "execution_count": 0,
   "metadata": {
    "colab": {},
    "colab_type": "code",
    "id": "FQT-u8EXhXRG"
   },
   "outputs": [],
   "source": [
    "columns = ['gender', 'anchor_age', 'admission_type', 'ethnicity', 'insurance']\n",
    "\n",
    "categorical = ['gender', 'admission_type', 'ethnicity', 'insurance']"
   ]
  },
  {
   "cell_type": "code",
   "execution_count": 0,
   "metadata": {
    "colab": {},
    "colab_type": "code",
    "id": "3ETr3NCzielL"
   },
   "outputs": [],
   "source": [
    "TableOne(cohort, columns=columns, categorical=categorical,\n",
    "         groupby='hospital_expire_flag',\n",
    "         label_suffix=True, limit=5)"
   ]
  }
 ],
 "metadata": {
  "colab": {
   "collapsed_sections": [],
   "name": "04-summary-statistics",
   "provenance": []
  },
  "kernelspec": {
   "display_name": "Python 3",
   "language": "python",
   "name": "python3"
  },
  "language_info": {
   "codemirror_mode": {
    "name": "ipython",
    "version": 3
   },
   "file_extension": ".py",
   "mimetype": "text/x-python",
   "name": "python",
   "nbconvert_exporter": "python",
   "pygments_lexer": "ipython3",
   "version": "3.7.3"
  }
 },
 "nbformat": 4,
 "nbformat_minor": 1
}
